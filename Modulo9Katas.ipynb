{
 "cells": [
  {
   "cell_type": "markdown",
   "metadata": {},
   "source": [
    "# Módulo 9 - Funciones - Kata 9"
   ]
  },
  {
   "cell_type": "markdown",
   "metadata": {},
   "source": [
    "## Ejercicio: Uso de funciones en Python\n",
    "\n",
    "### Ejercicio 1: Trabajar con argumentos en funciones\n",
    "Los argumentos requeridos en las funciones se utilizan cuando las funciones necesitan que esos argumentos funcionen correctamente. En este ejercicio, construirás un informe de combustible que requiere información de varias ubicaciones de combustible en todo el cohete."
   ]
  },
  {
   "cell_type": "code",
   "execution_count": 93,
   "metadata": {},
   "outputs": [],
   "source": [
    "def funcion(tanque_1, tanque_2, tanque_3):\n",
    "    prom = (tanque_1 + tanque_2 + tanque_3)/3\n",
    "\n",
    "    print (f'''Informe general.\n",
    "    \"El estado del combustible del tanque 1 se encuentra: = {tanque_1}\n",
    "    \"El estado del combustible del tanque 1 se encuentra: = {tanque_2}\n",
    "    \"El estado del combustible del tanque 1 se encuentra: = {tanque_3}\n",
    "    \"El promedio de los tanques: = {prom}\n",
    "    ''')\n"
   ]
  },
  {
   "cell_type": "markdown",
   "metadata": {},
   "source": [
    "Ahora que hemos definido la función de informes, vamos a comprobarlo. Para esta misión, los tanques no están llenos:"
   ]
  },
  {
   "cell_type": "code",
   "execution_count": 111,
   "metadata": {},
   "outputs": [
    {
     "name": "stdout",
     "output_type": "stream",
     "text": [
      "Informe general.\n",
      "    \"El estado del combustible del tanque 1 se encuentra: = 30\n",
      "    \"El estado del combustible del tanque 1 se encuentra: = 40\n",
      "    \"El estado del combustible del tanque 1 se encuentra: = 80\n",
      "    \"El promedio de los tanques: = 50.0\n",
      "    \n",
      "None\n"
     ]
    }
   ],
   "source": [
    "print(funcion(30, 40, 80))"
   ]
  },
  {
   "cell_type": "markdown",
   "metadata": {},
   "source": [
    "En lugar de simplemente crear el informe, la función también está calculando el promedio. Mejora la legibilidad extrayendo el cálculo promedio de la función en una nueva función para que el promedio se pueda hacer de forma independiente:"
   ]
  },
  {
   "cell_type": "code",
   "execution_count": 162,
   "metadata": {},
   "outputs": [
    {
     "data": {
      "text/plain": [
       "50.0"
      ]
     },
     "execution_count": 162,
     "metadata": {},
     "output_type": "execute_result"
    }
   ],
   "source": [
    "def promedio(estados):\n",
    "    promedio_tanques = sum(estados)/len(estados)\n",
    "    return promedio_tanques\n",
    "\n",
    "promedio([30,40,80])"
   ]
  },
  {
   "cell_type": "markdown",
   "metadata": {},
   "source": [
    "Ahora actualiza la función de informes para llamando a la nueva función del promedio:"
   ]
  },
  {
   "cell_type": "code",
   "execution_count": 253,
   "metadata": {},
   "outputs": [
    {
     "data": {
      "text/plain": [
       "50.0"
      ]
     },
     "execution_count": 253,
     "metadata": {},
     "output_type": "execute_result"
    }
   ],
   "source": [
    "def funcion(tanque_1, tanque_2, tanque_3):\n",
    "    print (f'''Informe general.\n",
    "    \"El estado del combustible del tanque 1 se encuentra: = {tanque_1}\n",
    "    \"El estado del combustible del tanque 1 se encuentra: = {tanque_2}\n",
    "    \"El estado del combustible del tanque 1 se encuentra: = {tanque_3}\n",
    "    \"El promedio de los tanques: = {promedio(tanque_1, tanque_2, tanque_3)}\n",
    "    ''')\n",
    "\n",
    "promedio([30,40,80])"
   ]
  },
  {
   "cell_type": "markdown",
   "metadata": {},
   "source": [
    "## Ejercicio 2: Trabajo con argumentos de palabra clave\n",
    "### Ejercicio : Trabajar con argumentos de palabras clave en funciones\n",
    "\n",
    "En este ejercicio, construirás un informe de cohete que requiere varias piezas de información, como el tiempo hasta el destino, el combustible a la izquierda y el nombre del destino. Comienza por crear una función que creará un informe preciso de la misión:\n"
   ]
  },
  {
   "cell_type": "code",
   "execution_count": 177,
   "metadata": {},
   "outputs": [],
   "source": [
    "def mission(prelanzamiento, tiempo_vuelo, destino, tanque_externo, tanque_interno):\n",
    "    print (f''' Hora de prelazamiento: {prelanzamiento}\n",
    "    Tiempo de vuelo: {tiempo_vuelo} minutos.\n",
    "    Destino: {destino}\n",
    "    Tanque externo: {tanque_externo} %\n",
    "    Tanque interno: {tanque_interno} %\n",
    "    ''')    \n"
   ]
  },
  {
   "cell_type": "markdown",
   "metadata": {},
   "source": [
    "La función es problemática porque no se puede adaptar para minutos adicionales o tanques adicionales de combustible. Hazlo más flexible permitiendo cualquier número de pasos basados en el tiempo y cualquier número de tanques. En lugar de usar *args y **kwargs, aprovecha el hecho de que puedes usar cualquier nombre que desees. Asegurate que la función sea más legible mediante el uso de nombres de variables que están asociados con las entradas, como *minutes y **fuel_reservoirs:"
   ]
  },
  {
   "cell_type": "code",
   "execution_count": 244,
   "metadata": {},
   "outputs": [
    {
     "name": "stdout",
     "output_type": "stream",
     "text": [
      " \n",
      "    Hora de prelazamiento: 10\n",
      "    Tiempo de vuelo: 15\n",
      "    Destino: Luna\n",
      "    Total de combustible: 300\n",
      "    \n"
     ]
    }
   ],
   "source": [
    "def mission (prelanzamiento,destino,*minutos,**reservas_tanques):\n",
    "    return f''' \n",
    "    Hora de prelazamiento: {prelanzamiento}\n",
    "    Tiempo de vuelo: {sum(minutos)}\n",
    "    Destino: {destino}\n",
    "    Total de combustible: {sum(reservas_tanques.values())}\n",
    "    '''\n",
    "\n",
    "print(mission(10,'Luna',15,tanque_1=100,tanque_2=200))"
   ]
  },
  {
   "cell_type": "markdown",
   "metadata": {},
   "source": [
    "Debido a que el combustible que queda en los tanques es específico de cada tanque, actualiza la función para usar el nombre de cada tanque en el informe:"
   ]
  },
  {
   "cell_type": "code",
   "execution_count": 277,
   "metadata": {},
   "outputs": [
    {
     "name": "stdout",
     "output_type": "stream",
     "text": [
      "El número de total de tanques son: 2\n",
      "tanque_1: 101\n",
      "tanque_2: 200\n"
     ]
    }
   ],
   "source": [
    "def nombre_tanques(**reserva_tanques):\n",
    "    print(f'El número de total de tanques son: {len(reserva_tanques)}')\n",
    "    for nombre_tanque,valor in reserva_tanques.items():\n",
    "        print (f'{nombre_tanque}: {valor}')\n",
    "\n",
    "nombre_tanques(tanque_1=101,tanque_2=200)"
   ]
  },
  {
   "cell_type": "code",
   "execution_count": 286,
   "metadata": {},
   "outputs": [
    {
     "name": "stdout",
     "output_type": "stream",
     "text": [
      "tanque_1: 101\n",
      "tanque_2: 200\n",
      " \n",
      "    Hora de prelazamiento: 10\n",
      "    Tiempo de vuelo: 15\n",
      "    Destino: Luna\n",
      "    Total de combustible: 301\n",
      "    \n"
     ]
    }
   ],
   "source": [
    "def mission (prelanzamiento,destino,*minutos,**reservas_tanques):\n",
    "    reporte_general=f''' \n",
    "    Hora de prelazamiento: {prelanzamiento}\n",
    "    Tiempo de vuelo: {sum(minutos)}\n",
    "    Destino: {destino}\n",
    "    Total de combustible: {sum(reservas_tanques.values())}\n",
    "    '''\n",
    "    for nombre_tanque,valor in reservas_tanques.items():\n",
    "        print (f'{nombre_tanque}: {valor}')\n",
    "    return reporte_general\n",
    "\n",
    "print(mission(10,'Luna',15,tanque_1=101,tanque_2=200))"
   ]
  },
  {
   "cell_type": "markdown",
   "metadata": {},
   "source": [
    "## Prácticas Módulo 9 - Funciones"
   ]
  },
  {
   "cell_type": "markdown",
   "metadata": {},
   "source": [
    "### Funciones sin argumentos - def"
   ]
  },
  {
   "cell_type": "code",
   "execution_count": 2,
   "metadata": {},
   "outputs": [],
   "source": [
    "# Defino mi función\n",
    "def rocket_parts():\n",
    "    print('payload, propellant, structure')"
   ]
  },
  {
   "cell_type": "code",
   "execution_count": 4,
   "metadata": {},
   "outputs": [
    {
     "name": "stdout",
     "output_type": "stream",
     "text": [
      "payload, propellant, structure\n"
     ]
    },
    {
     "data": {
      "text/plain": [
       "'payload, propellant, structure'"
      ]
     },
     "execution_count": 4,
     "metadata": {},
     "output_type": "execute_result"
    }
   ],
   "source": [
    "# Llamo a mi función\n",
    "\n",
    "rocket_parts()\n",
    "'payload, propellant, structure'"
   ]
  },
  {
   "cell_type": "code",
   "execution_count": 5,
   "metadata": {},
   "outputs": [
    {
     "name": "stdout",
     "output_type": "stream",
     "text": [
      "payload, propellant, structure\n"
     ]
    },
    {
     "data": {
      "text/plain": [
       "True"
      ]
     },
     "execution_count": 5,
     "metadata": {},
     "output_type": "execute_result"
    }
   ],
   "source": [
    "output = rocket_parts()\n",
    "output is None"
   ]
  },
  {
   "cell_type": "code",
   "execution_count": 8,
   "metadata": {},
   "outputs": [],
   "source": [
    "def rocket_parts():\n",
    "     return 'payload, propellant, structure'\n",
    "\n",
    "output = rocket_parts()"
   ]
  },
  {
   "cell_type": "markdown",
   "metadata": {},
   "source": [
    "### Argumentos opcionales y requeridos - any()"
   ]
  },
  {
   "cell_type": "code",
   "execution_count": 11,
   "metadata": {},
   "outputs": [
    {
     "data": {
      "text/plain": [
       "True"
      ]
     },
     "execution_count": 11,
     "metadata": {},
     "output_type": "execute_result"
    }
   ],
   "source": [
    "#any() = Esta función toma un objeto iterable (por ejemplo, una lista) y devuelve True si algún elemento del objeto iterable es True. De lo contrario, devuelve False.\n",
    "\n",
    "any([True, False, False])\n"
   ]
  },
  {
   "cell_type": "code",
   "execution_count": 12,
   "metadata": {},
   "outputs": [
    {
     "data": {
      "text/plain": [
       "False"
      ]
     },
     "execution_count": 12,
     "metadata": {},
     "output_type": "execute_result"
    }
   ],
   "source": [
    "any([False, False, False])"
   ]
  },
  {
   "cell_type": "code",
   "execution_count": null,
   "metadata": {},
   "outputs": [],
   "source": [
    "any()"
   ]
  },
  {
   "cell_type": "code",
   "execution_count": 17,
   "metadata": {},
   "outputs": [
    {
     "data": {
      "text/plain": [
       "'15'"
      ]
     },
     "execution_count": 17,
     "metadata": {},
     "output_type": "execute_result"
    }
   ],
   "source": [
    "str()\n",
    "str(15)"
   ]
  },
  {
   "cell_type": "markdown",
   "metadata": {},
   "source": [
    "### Uso de argumentos en una función de Python\n",
    "\n",
    "### Exigencia de un argumento"
   ]
  },
  {
   "cell_type": "code",
   "execution_count": 32,
   "metadata": {},
   "outputs": [],
   "source": [
    "def distance_from_earth(destination):\n",
    "    if destination == 'Moon':\n",
    "        return '238,855'\n",
    "    else:\n",
    "        return 'Unable to compute to that destination'"
   ]
  },
  {
   "cell_type": "code",
   "execution_count": 33,
   "metadata": {},
   "outputs": [
    {
     "data": {
      "text/plain": [
       "'238,855'"
      ]
     },
     "execution_count": 33,
     "metadata": {},
     "output_type": "execute_result"
    }
   ],
   "source": [
    "distance_from_earth('Moon')"
   ]
  },
  {
   "cell_type": "code",
   "execution_count": 34,
   "metadata": {},
   "outputs": [
    {
     "data": {
      "text/plain": [
       "'Unable to compute to that destination'"
      ]
     },
     "execution_count": 34,
     "metadata": {},
     "output_type": "execute_result"
    }
   ],
   "source": [
    "distance_from_earth('Saturn')"
   ]
  },
  {
   "cell_type": "markdown",
   "metadata": {},
   "source": [
    "### Varios argumentos necesarios"
   ]
  },
  {
   "cell_type": "code",
   "execution_count": 35,
   "metadata": {},
   "outputs": [],
   "source": [
    "def days_to_complete(distance, speed):\n",
    "    hours = distance/speed\n",
    "    return hours/24"
   ]
  },
  {
   "cell_type": "code",
   "execution_count": 36,
   "metadata": {},
   "outputs": [
    {
     "data": {
      "text/plain": [
       "132.69722222222222"
      ]
     },
     "execution_count": 36,
     "metadata": {},
     "output_type": "execute_result"
    }
   ],
   "source": [
    "days_to_complete(238855, 75)"
   ]
  },
  {
   "cell_type": "markdown",
   "metadata": {},
   "source": [
    "### Funciones como argumentos"
   ]
  },
  {
   "cell_type": "code",
   "execution_count": 37,
   "metadata": {},
   "outputs": [
    {
     "data": {
      "text/plain": [
       "133"
      ]
     },
     "execution_count": 37,
     "metadata": {},
     "output_type": "execute_result"
    }
   ],
   "source": [
    "total_days = days_to_complete(238855, 75)\n",
    "round(total_days)"
   ]
  },
  {
   "cell_type": "code",
   "execution_count": 38,
   "metadata": {},
   "outputs": [
    {
     "data": {
      "text/plain": [
       "133"
      ]
     },
     "execution_count": 38,
     "metadata": {},
     "output_type": "execute_result"
    }
   ],
   "source": [
    "round(days_to_complete(238855, 75))"
   ]
  },
  {
   "cell_type": "markdown",
   "metadata": {},
   "source": [
    "### Uso de argumentos de palabra clave en Python"
   ]
  },
  {
   "cell_type": "code",
   "execution_count": 39,
   "metadata": {},
   "outputs": [],
   "source": [
    "from datetime import timedelta, datetime\n",
    "\n",
    "def arrival_time(hours=51): \n",
    "    now = datetime.now() #datetime = Definir la hora actual\n",
    "    arrival = now + timedelta(hours=hours) #timedelta = Permite la operación de suma que da como resultado un objeto de hora nuevo. \n",
    "    return arrival.strftime('Arrival: %A %H:%M')"
   ]
  },
  {
   "cell_type": "code",
   "execution_count": 42,
   "metadata": {},
   "outputs": [
    {
     "data": {
      "text/plain": [
       "'Arrival: Tuesday 15:43'"
      ]
     },
     "execution_count": 42,
     "metadata": {},
     "output_type": "execute_result"
    }
   ],
   "source": [
    "arrival_time()"
   ]
  },
  {
   "cell_type": "code",
   "execution_count": 41,
   "metadata": {},
   "outputs": [
    {
     "data": {
      "text/plain": [
       "'Arrival: Sunday 12:42'"
      ]
     },
     "execution_count": 41,
     "metadata": {},
     "output_type": "execute_result"
    }
   ],
   "source": [
    "arrival_time(hours=0)"
   ]
  },
  {
   "cell_type": "markdown",
   "metadata": {},
   "source": [
    "### Combinación de argumentos y argumentos de palabra clave"
   ]
  },
  {
   "cell_type": "code",
   "execution_count": 43,
   "metadata": {},
   "outputs": [],
   "source": [
    "from datetime import timedelta, datetime\n",
    "\n",
    "def arrival_time(destination, hours=51):\n",
    "    now = datetime.now()\n",
    "    arrival = now + timedelta(hours=hours)\n",
    "    return arrival.strftime(f'{destination} Arrival: %A %H:%M')"
   ]
  },
  {
   "cell_type": "code",
   "execution_count": 44,
   "metadata": {},
   "outputs": [
    {
     "data": {
      "text/plain": [
       "'Moon Arrival: Tuesday 15:47'"
      ]
     },
     "execution_count": 44,
     "metadata": {},
     "output_type": "execute_result"
    }
   ],
   "source": [
    "arrival_time('Moon')"
   ]
  },
  {
   "cell_type": "code",
   "execution_count": 45,
   "metadata": {},
   "outputs": [
    {
     "data": {
      "text/plain": [
       "'Orbit Arrival: Sunday 12:56'"
      ]
     },
     "execution_count": 45,
     "metadata": {},
     "output_type": "execute_result"
    }
   ],
   "source": [
    "arrival_time('Orbit', hours=0.13)"
   ]
  },
  {
   "cell_type": "markdown",
   "metadata": {},
   "source": [
    "### Uso de argumentos de variable en Python\n",
    "\n",
    "### Argumentos de variable - *args"
   ]
  },
  {
   "cell_type": "code",
   "execution_count": 67,
   "metadata": {},
   "outputs": [],
   "source": [
    "def variable_length(*args):\n",
    "    print(args)"
   ]
  },
  {
   "cell_type": "code",
   "execution_count": 70,
   "metadata": {},
   "outputs": [
    {
     "name": "stdout",
     "output_type": "stream",
     "text": [
      "()\n",
      "(1,)\n",
      "(33333,)\n",
      "('one', 'two')\n",
      "('hola mundo', '')\n"
     ]
    }
   ],
   "source": [
    "variable_length()\n",
    "variable_length(1)\n",
    "variable_length(33333)\n",
    "variable_length('one', 'two')\n",
    "variable_length('hola mundo','')"
   ]
  },
  {
   "cell_type": "code",
   "execution_count": 57,
   "metadata": {},
   "outputs": [],
   "source": [
    "def sequence_time(*args):\n",
    "    total_minutes = sum(args)\n",
    "    if total_minutes < 60:\n",
    "        return f'Total time to launch is {total_minutes} minutes'\n",
    "    else:\n",
    "        return f'Total time to launch is {total_minutes/60} hours'"
   ]
  },
  {
   "cell_type": "code",
   "execution_count": 58,
   "metadata": {},
   "outputs": [
    {
     "data": {
      "text/plain": [
       "'Total time to launch is 36 minutes'"
      ]
     },
     "execution_count": 58,
     "metadata": {},
     "output_type": "execute_result"
    }
   ],
   "source": [
    "sequence_time(4, 14, 18)"
   ]
  },
  {
   "cell_type": "code",
   "execution_count": 59,
   "metadata": {},
   "outputs": [
    {
     "data": {
      "text/plain": [
       "'Total time to launch is 1.1 hours'"
      ]
     },
     "execution_count": 59,
     "metadata": {},
     "output_type": "execute_result"
    }
   ],
   "source": [
    "sequence_time(4, 14, 48)"
   ]
  },
  {
   "cell_type": "markdown",
   "metadata": {},
   "source": [
    "### Argumentos de palabra clave variable - **kwargs"
   ]
  },
  {
   "cell_type": "code",
   "execution_count": 71,
   "metadata": {},
   "outputs": [],
   "source": [
    "def variable_length(**kwargs):\n",
    "    print(kwargs)"
   ]
  },
  {
   "cell_type": "code",
   "execution_count": 62,
   "metadata": {},
   "outputs": [
    {
     "name": "stdout",
     "output_type": "stream",
     "text": [
      "{'tanks': 1, 'day': 'Wednesday', 'pilots': 3}\n"
     ]
    }
   ],
   "source": [
    "variable_length(tanks=1, day='Wednesday', pilots=3)"
   ]
  },
  {
   "cell_type": "code",
   "execution_count": 63,
   "metadata": {},
   "outputs": [],
   "source": [
    "def crew_members(**kwargs):\n",
    "    print(f'{len(kwargs)} astronauts assigned for this mission:')\n",
    "    for title, name in kwargs.items():\n",
    "        print(f'{title}: {name}')"
   ]
  },
  {
   "cell_type": "code",
   "execution_count": 64,
   "metadata": {},
   "outputs": [
    {
     "name": "stdout",
     "output_type": "stream",
     "text": [
      "3 astronauts assigned for this mission:\n",
      "captain: Neil Armstrong\n",
      "pilot: Buzz Aldrin\n",
      "command_pilot: Michael Collins\n"
     ]
    }
   ],
   "source": [
    "crew_members(captain='Neil Armstrong', pilot='Buzz Aldrin', command_pilot='Michael Collins')"
   ]
  }
 ],
 "metadata": {
  "interpreter": {
   "hash": "8a47929ad5381158eb0560ade46dc9b14db7b96998bb55ee88ee8b8bdc320b3a"
  },
  "kernelspec": {
   "display_name": "Python 3.10.2 64-bit",
   "language": "python",
   "name": "python3"
  },
  "language_info": {
   "codemirror_mode": {
    "name": "ipython",
    "version": 3
   },
   "file_extension": ".py",
   "mimetype": "text/x-python",
   "name": "python",
   "nbconvert_exporter": "python",
   "pygments_lexer": "ipython3",
   "version": "3.10.2"
  },
  "orig_nbformat": 4
 },
 "nbformat": 4,
 "nbformat_minor": 2
}
